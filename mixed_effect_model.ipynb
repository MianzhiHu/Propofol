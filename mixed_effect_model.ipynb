{
  "nbformat": 4,
  "nbformat_minor": 0,
  "metadata": {
    "colab": {
      "provenance": [],
      "authorship_tag": "ABX9TyMT4u309ZuVbsMwbVG919jK",
      "include_colab_link": true
    },
    "kernelspec": {
      "name": "ir",
      "display_name": "R"
    },
    "language_info": {
      "name": "R"
    }
  },
  "cells": [
    {
      "cell_type": "markdown",
      "metadata": {
        "id": "view-in-github",
        "colab_type": "text"
      },
      "source": [
        "<a href=\"https://colab.research.google.com/github/MianzhiHu/Propofol/blob/master/mixed_effect_model.ipynb\" target=\"_parent\"><img src=\"https://colab.research.google.com/assets/colab-badge.svg\" alt=\"Open In Colab\"/></a>"
      ]
    },
    {
      "cell_type": "code",
      "source": [
        "install.packages(c(\"lme4\", \"optimx\", \"lmerTest\", \"emmeans\", \"effects\", \"pbkrtest\"))"
      ],
      "metadata": {
        "id": "3P0dtZF4nxzT"
      },
      "execution_count": null,
      "outputs": []
    },
    {
      "cell_type": "code",
      "execution_count": null,
      "metadata": {
        "id": "OLSNfHPSMxIu"
      },
      "outputs": [],
      "source": [
        "library(dplyr) \n",
        "library(ggplot2)\n",
        "library(tidyverse)\n",
        "library(lme4)\n",
        "library(optimx)\n",
        "library(emmeans)\n",
        "library(lmerTest)\n",
        "library(effects)"
      ]
    },
    {
      "cell_type": "code",
      "source": [
        "x <- read.csv(\"/content/hurst_averages.csv\") %>%\n",
        "  separate(key, into = c(\"subject\",\"nan1\", \"condition\", \"sedation_level\", \"nan2\"), convert = TRUE, sep = \"_\") %>%\n",
        "  select(\"subject\", \"condition\", \"sedation_level\", \"hurst_average\", \"r_squared\") %>%\n",
        "  mutate(sedation_level = as.character(sedation_level)) %>%\n",
        "  mutate(sedation_level = fct_recode(sedation_level,\n",
        "                                \"Awake\" = \"1\",\n",
        "                                \"Mild\" = \"2\",\n",
        "                                \"Deep\" = \"3\",\n",
        "                                \"Recovery\" = \"4\")) %>%\n",
        "  filter(r_squared > 0.9)\n",
        "x$subject <- factor(x$subject)\n",
        "x$sedation_level <- factor(x$sedation_level, levels=c(\"Awake\",\"Mild\", \"Deep\", \"Recovery\")) \n",
        "x$condition <- factor(x$condition, levels=c(\"rest\",\"movie\")) \n",
        " \n",
        "\n",
        "contrasts(x$sedation_level) = contr.poly(4)\n",
        "options(contrasts=c(\"contr.sum\",\"contr.poly\"))\n",
        "\n",
        "# Normalize the data\n",
        "x$hurst <- scale(x$hurst_average) \n",
        "\n",
        "x"
      ],
      "metadata": {
        "id": "uOAFDwCiPm68"
      },
      "execution_count": null,
      "outputs": []
    },
    {
      "cell_type": "code",
      "source": [
        "y <- read.csv(\"/content/ss_out_review_compiled_ANAT.csv\") %>%\n",
        "  rename(\"subject\" = \"sub\",\n",
        "          \"condition\" = \"task\",\n",
        "          \"sedation_level\" = \"run\") %>%\n",
        "  mutate(sedation_level = as.character(sedation_level)) %>%\n",
        "  mutate(sedation_level = fct_recode(sedation_level,\n",
        "                                \"Awake\" = \"1\",\n",
        "                                \"Mild\" = \"2\",\n",
        "                                \"Deep\" = \"3\",\n",
        "                                \"Recovery\" = \"4\")) %>%\n",
        "  full_join(x, by = c(\"subject\", \"sedation_level\", \"condition\"))\n",
        "\n",
        "ggplot(data = y) +\n",
        "  geom_line(aes(x = motion, y = r_squared)) +\n",
        "  geom_smooth(aes(x = motion, y = r_squared))\n",
        "\n",
        "y"
      ],
      "metadata": {
        "id": "We6-Md_Vy-lb"
      },
      "execution_count": null,
      "outputs": []
    },
    {
      "cell_type": "code",
      "source": [
        "z <- y %>%\n",
        "  filter(r_squared > 0.9)\n",
        "\n",
        "z"
      ],
      "metadata": {
        "id": "ARFBBjb64sb8"
      },
      "execution_count": null,
      "outputs": []
    },
    {
      "cell_type": "code",
      "source": [
        "mixed_effect_total = lmer(hurst ~ sedation_level + (1 | subject) + (1 | condition), data=z)\n",
        "summary(mixed_effect_total)"
      ],
      "metadata": {
        "id": "n_wQZopYP1Mo"
      },
      "execution_count": null,
      "outputs": []
    },
    {
      "cell_type": "code",
      "source": [
        "anova(mixed_effect_total)\n",
        "plot(allEffects(mixed_effect_total))\n",
        "ranef(mixed_effect_total)$subject\n",
        "emmeans(mixed_effect_total, list(pairwise ~ sedation_level), adjust = \"tukey\")"
      ],
      "metadata": {
        "id": "uozPUhrkUEX6"
      },
      "execution_count": null,
      "outputs": []
    },
    {
      "cell_type": "code",
      "source": [
        "mixed_effect_condition = lmer(hurst ~ condition + (1 | subject) + (1 | sedation_level), data=z)\n",
        "summary(mixed_effect_condition)\n",
        "plot(allEffects(mixed_effect_condition))"
      ],
      "metadata": {
        "id": "RfDg2QD76Bgw"
      },
      "execution_count": null,
      "outputs": []
    },
    {
      "cell_type": "code",
      "source": [
        "movie <- z %>%\n",
        "  filter(condition == \"movie\")\n",
        "\n",
        "mixed_effect_movie = lmer(hurst ~ sedation_level + (1 | subject), data=movie)\n",
        "summary(mixed_effect_movie)\n",
        "anova(mixed_effect_movie)\n",
        "plot(allEffects(mixed_effect_movie))\n",
        "emmeans(mixed_effect_movie, list(pairwise ~ sedation_level), adjust = \"tukey\")"
      ],
      "metadata": {
        "id": "PAPN_VZebYzc"
      },
      "execution_count": null,
      "outputs": []
    },
    {
      "cell_type": "code",
      "source": [
        "rest <- z %>%\n",
        "  filter(condition == \"rest\")\n",
        "\n",
        "mixed_effect_rest = lmer(hurst ~ sedation_level + (1 | subject), data=rest)\n",
        "summary(mixed_effect_rest)\n",
        "anova(mixed_effect_rest)\n",
        "plot(allEffects(mixed_effect_rest))\n",
        "emmeans(mixed_effect_rest, list(pairwise ~ sedation_level), adjust = \"tukey\")"
      ],
      "metadata": {
        "id": "Wu5qwfhjcei_"
      },
      "execution_count": null,
      "outputs": []
    },
    {
      "cell_type": "code",
      "source": [
        "mixed_effect = lmer(hurst ~ sedation_level*condition + (1 | subject), data=z)\n",
        "summary(mixed_effect)\n",
        "anova(mixed_effect)\n",
        "plot(allEffects(mixed_effect))\n",
        "emmeans(mixed_effect, list(pairwise ~ sedation_level*condition), adjust = \"tukey\")"
      ],
      "metadata": {
        "id": "QRG0tD6Gq47d"
      },
      "execution_count": null,
      "outputs": []
    },
    {
      "cell_type": "code",
      "source": [
        "rest_100 <- read.csv(\"/content/rest_100.csv\") %>%\n",
        "  separate(col = X, into = c(\"subject\"), convert = TRUE, sep = \"_\") %>%\n",
        "  mutate(recovery_early = rowMeans(across(X0:X9), na.rm = TRUE)) %>%\n",
        "  mutate(recovery_late = rowMeans(across(X36:X45), na.rm = TRUE)) %>%\n",
        "  mutate(condition = \"rest\") %>%\n",
        "  select(\"subject\", \"recovery_early\" ,\"recovery_late\", \"condition\") %>%\n",
        "  pivot_longer(c(\"recovery_early\", \"recovery_late\"), names_to = \"sedation_level\", values_to = \"hurst_average\") %>%\n",
        "  mutate(hurst = scale(hurst_average)) %>%\n",
        "  select(\"subject\", \"sedation_level\", \"hurst\", \"condition\") %>%\n",
        "  full_join(x, by = c(\"subject\", \"sedation_level\", \"hurst\", \"condition\")) %>%\n",
        "  filter(condition == \"rest\") %>%\n",
        "  filter(sedation_level != \"Recovery\")\n",
        "\n",
        "rest_100$subject <- factor(rest_100$subject)\n",
        "rest_100$sedation_level <- factor(rest_100$sedation_level, levels=c(\"Awake\",\"Mild\", \"Deep\", \"recovery_early\", \"recovery_late\"))\n",
        "\n",
        "contrasts(rest_100$sedation_level) = contr.poly(5)\n",
        "options(contrasts=c(\"contr.sum\",\"contr.poly\"))\n",
        "\n",
        "rest_100"
      ],
      "metadata": {
        "id": "6smz2KDnT9sL"
      },
      "execution_count": null,
      "outputs": []
    },
    {
      "cell_type": "code",
      "source": [
        "mixed_effect_rest_100 = lmer(hurst ~ sedation_level + (1 | subject), data=rest_100)\n",
        "summary(mixed_effect_rest_100)\n",
        "anova(mixed_effect_rest_100)\n",
        "plot(allEffects(mixed_effect_rest_100))\n",
        "emmeans(mixed_effect_rest_100, list(pairwise ~ sedation_level), adjust = \"tukey\")"
      ],
      "metadata": {
        "id": "yEJrMj2TVGh5"
      },
      "execution_count": null,
      "outputs": []
    },
    {
      "cell_type": "code",
      "source": [
        "movie_100 <- read.csv(\"/content/movie_100.csv\") %>%\n",
        "  separate(col = X, into = c(\"subject\"), convert = TRUE, sep = \"_\") %>%\n",
        "  mutate(recovery_early = rowMeans(across(X0:X19), na.rm = TRUE)) %>%\n",
        "  mutate(recovery_late = rowMeans(across(X46:X65), na.rm = TRUE)) %>%\n",
        "  mutate(condition = \"movie\") %>%\n",
        "  select(\"subject\", \"recovery_early\" ,\"recovery_late\", \"condition\") %>%\n",
        "  pivot_longer(c(\"recovery_early\", \"recovery_late\"), names_to = \"sedation_level\", values_to = \"hurst_average\") %>%\n",
        "  mutate(hurst = scale(hurst_average)) %>%\n",
        "  select(\"subject\", \"sedation_level\", \"hurst\", \"condition\") %>%\n",
        "  full_join(x, by = c(\"subject\", \"sedation_level\", \"hurst\", \"condition\")) %>%\n",
        "  filter(condition == \"movie\") %>%\n",
        "  filter(sedation_level != \"Recovery\")\n",
        "\n",
        "movie_100$subject <- factor(movie_100$subject)\n",
        "movie_100$sedation_level <- factor(movie_100$sedation_level, levels=c(\"Awake\",\"Mild\", \"Deep\", \"recovery_early\", \"recovery_late\"))\n",
        "\n",
        "contrasts(movie_100$sedation_level) = contr.poly(5)\n",
        "options(contrasts=c(\"contr.sum\",\"contr.poly\"))\n",
        "\n",
        "movie_100"
      ],
      "metadata": {
        "id": "FJFPqigryDKv"
      },
      "execution_count": null,
      "outputs": []
    },
    {
      "cell_type": "code",
      "source": [
        "mixed_effect_movie_100 = lmer(hurst ~ sedation_level + (1 | subject), data=movie_100)\n",
        "summary(mixed_effect_movie_100)\n",
        "anova(mixed_effect_movie_100)\n",
        "plot(allEffects(mixed_effect_movie_100))\n",
        "emmeans(mixed_effect_movie_100, list(pairwise ~ sedation_level), adjust = \"tukey\")"
      ],
      "metadata": {
        "id": "OSS8uDkMywuk"
      },
      "execution_count": null,
      "outputs": []
    },
    {
      "cell_type": "code",
      "source": [
        "total_100 <- rest_100 %>%\n",
        "  full_join(movie_100)\n",
        "\n",
        "total_100$subject <- factor(total_100$subject)\n",
        "total_100$sedation_level <- factor(total_100$sedation_level, levels=c(\"Awake\",\"Mild\", \"Deep\", \"recovery_early\", \"recovery_late\"))\n",
        "\n",
        "contrasts(total_100$sedation_level) = contr.poly(5)\n",
        "options(contrasts=c(\"contr.sum\",\"contr.poly\"))\n",
        "\n",
        "total_100"
      ],
      "metadata": {
        "id": "A-OV5y1m5Ab8"
      },
      "execution_count": null,
      "outputs": []
    },
    {
      "cell_type": "code",
      "source": [
        "mixed_effect_total_100 = lmer(hurst ~ sedation_level*condition + (1 | subject), data=total_100)\n",
        "summary(mixed_effect_total_100)\n",
        "anova(mixed_effect_total_100)\n",
        "plot(allEffects(mixed_effect_total_100))\n",
        "emmeans(mixed_effect_total_100, list(pairwise ~ sedation_level*condition), adjust = \"tukey\")"
      ],
      "metadata": {
        "id": "YYG3FpW35XTS"
      },
      "execution_count": null,
      "outputs": []
    }
  ]
}