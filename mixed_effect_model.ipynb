{
  "nbformat": 4,
  "nbformat_minor": 0,
  "metadata": {
    "colab": {
      "provenance": [],
      "authorship_tag": "ABX9TyOPgY/JbRilxHB9CJQleJBl",
      "include_colab_link": true
    },
    "kernelspec": {
      "name": "ir",
      "display_name": "R"
    },
    "language_info": {
      "name": "R"
    }
  },
  "cells": [
    {
      "cell_type": "markdown",
      "metadata": {
        "id": "view-in-github",
        "colab_type": "text"
      },
      "source": [
        "<a href=\"https://colab.research.google.com/github/MianzhiHu/Propofol/blob/master/mixed_effect_model.ipynb\" target=\"_parent\"><img src=\"https://colab.research.google.com/assets/colab-badge.svg\" alt=\"Open In Colab\"/></a>"
      ]
    },
    {
      "cell_type": "code",
      "source": [
        "install.packages(c(\"lme4\", \"optimx\", \"lmerTest\", \"emmeans\", \"effects\", \"pbkrtest\"))"
      ],
      "metadata": {
        "id": "3P0dtZF4nxzT"
      },
      "execution_count": null,
      "outputs": []
    },
    {
      "cell_type": "code",
      "execution_count": null,
      "metadata": {
        "id": "OLSNfHPSMxIu"
      },
      "outputs": [],
      "source": [
        "library(dplyr) \n",
        "library(ggplot2)\n",
        "library(tidyverse)\n",
        "library(lme4)\n",
        "library(optimx)\n",
        "library(emmeans)\n",
        "library(lmerTest)\n",
        "library(effects)"
      ]
    },
    {
      "cell_type": "code",
      "source": [
        "# Summarize data files with a mean r squared below 0.9\n",
        "bad <- read.csv(\"/hurst_averages.csv\") %>%\n",
        "  separate(key, into = c(\"subject\",\"nan1\", \"condition\", \"sedation_level\", \"nan2\"), convert = TRUE, sep = \"_\") %>%\n",
        "  select(\"subject\", \"condition\", \"sedation_level\", \"hurst_average\", \"r_squared\") %>%\n",
        "  mutate(sedation_level = as.character(sedation_level)) %>%\n",
        "  mutate(sedation_level = fct_recode(sedation_level,\n",
        "                                \"Awake\" = \"1\",\n",
        "                                \"Mild\" = \"2\",\n",
        "                                \"Deep\" = \"3\",\n",
        "                                \"Recovery\" = \"4\")) %>%\n",
        "  filter(r_squared < 0.9)\n",
        "\n",
        "bad\n",
        "                                "
      ],
      "metadata": {
        "id": "Z1NQAkmloZpq"
      },
      "execution_count": null,
      "outputs": []
    },
    {
      "cell_type": "code",
      "source": [
        "# Preprocess hurst averages\n",
        "x <- read.csv(\"/content/hurst_averages.csv\") %>%\n",
        "  separate(key, into = c(\"subject\",\"nan1\", \"condition\", \"sedation_level\", \"nan2\"), convert = TRUE, sep = \"_\") %>%\n",
        "  select(\"subject\", \"condition\", \"sedation_level\", \"hurst_average\", \"r_squared\") %>%\n",
        "  mutate(sedation_level = as.character(sedation_level)) %>%\n",
        "  mutate(sedation_level = fct_recode(sedation_level,\n",
        "                                \"Awake\" = \"1\",\n",
        "                                \"Mild\" = \"2\",\n",
        "                                \"Deep\" = \"3\",\n",
        "                                \"Recovery\" = \"4\")) %>%\n",
        "  filter(r_squared > 0.9)\n",
        "x$subject <- factor(x$subject)\n",
        "x$sedation_level <- factor(x$sedation_level, levels=c(\"Awake\",\"Mild\", \"Deep\", \"Recovery\")) \n",
        "x$condition <- factor(x$condition, levels=c(\"rest\",\"movie\")) \n",
        " \n",
        "\n",
        "contrasts(x$sedation_level) = contr.poly(4)\n",
        "options(contrasts=c(\"contr.sum\",\"contr.poly\"))\n",
        "\n",
        "# Normalize the data\n",
        "x$hurst <- scale(x$hurst_average) \n",
        "\n",
        "x"
      ],
      "metadata": {
        "id": "uOAFDwCiPm68"
      },
      "execution_count": null,
      "outputs": []
    },
    {
      "cell_type": "code",
      "source": [
        "# Incoporate framewise displacement\n",
        "y <- read.csv(\"/ss_out_review_compiled_ANAT.csv\") %>%\n",
        "  rename(\"subject\" = \"sub\",\n",
        "          \"condition\" = \"task\",\n",
        "          \"sedation_level\" = \"run\") %>%\n",
        "  mutate(sedation_level = as.character(sedation_level)) %>%\n",
        "  mutate(sedation_level = fct_recode(sedation_level,\n",
        "                                \"Awake\" = \"1\",\n",
        "                                \"Mild\" = \"2\",\n",
        "                                \"Deep\" = \"3\",\n",
        "                                \"Recovery\" = \"4\")) %>%\n",
        "  full_join(x, by = c(\"subject\", \"sedation_level\", \"condition\"))\n",
        "\n",
        "ggplot(data = y) +\n",
        "  geom_line(aes(x = motion, y = r_squared)) +\n",
        "  geom_smooth(aes(x = motion, y = r_squared))\n",
        "\n",
        "y"
      ],
      "metadata": {
        "id": "We6-Md_Vy-lb"
      },
      "execution_count": null,
      "outputs": []
    },
    {
      "cell_type": "code",
      "source": [
        "# In case\n",
        "z <- y %>%\n",
        "  filter(r_squared > 0.9)\n",
        "\n",
        "z"
      ],
      "metadata": {
        "id": "ARFBBjb64sb8"
      },
      "execution_count": null,
      "outputs": []
    },
    {
      "cell_type": "code",
      "source": [
        "# Main effect of sedation level\n",
        "mixed_effect_total = lmer(hurst ~ sedation_level + (1 | subject) + (1 | condition), data=x)\n",
        "summary(mixed_effect_total)\n",
        "anova(mixed_effect_total)\n",
        "plot(allEffects(mixed_effect_total))\n",
        "emmeans(mixed_effect_total, list(pairwise ~ sedation_level), adjust = \"tukey\")"
      ],
      "metadata": {
        "id": "n_wQZopYP1Mo"
      },
      "execution_count": null,
      "outputs": []
    },
    {
      "cell_type": "code",
      "source": [
        "# Main effect of movie/rest condition\n",
        "mixed_effect_condition = lmer(hurst ~ condition + (1 | subject) + (1 | sedation_level), data=x)\n",
        "summary(mixed_effect_condition)\n",
        "plot(allEffects(mixed_effect_condition))"
      ],
      "metadata": {
        "id": "RfDg2QD76Bgw"
      },
      "execution_count": null,
      "outputs": []
    },
    {
      "cell_type": "code",
      "source": [
        "# Main effect of sedation level within the movie condition\n",
        "movie <- x %>%\n",
        "  filter(condition == \"movie\")\n",
        "\n",
        "mixed_effect_movie = lmer(hurst ~ sedation_level + (1 | subject), data=movie)\n",
        "summary(mixed_effect_movie)\n",
        "anova(mixed_effect_movie)\n",
        "plot(allEffects(mixed_effect_movie))\n",
        "emmeans(mixed_effect_movie, list(pairwise ~ sedation_level), adjust = \"tukey\")"
      ],
      "metadata": {
        "id": "PAPN_VZebYzc"
      },
      "execution_count": null,
      "outputs": []
    },
    {
      "cell_type": "code",
      "source": [
        "# Main effect of sedation level within the rest condition\n",
        "rest <- x %>%\n",
        "  filter(condition == \"rest\")\n",
        "\n",
        "mixed_effect_rest = lmer(hurst ~ sedation_level + (1 | subject), data=rest)\n",
        "summary(mixed_effect_rest)\n",
        "anova(mixed_effect_rest)\n",
        "plot(allEffects(mixed_effect_rest))\n",
        "emmeans(mixed_effect_rest, list(pairwise ~ sedation_level), adjust = \"tukey\")"
      ],
      "metadata": {
        "id": "Wu5qwfhjcei_"
      },
      "execution_count": null,
      "outputs": []
    },
    {
      "cell_type": "code",
      "source": [
        "# Interaction effects\n",
        "mixed_effect = lmer(hurst ~ sedation_level*condition + (1 | subject), data=x)\n",
        "summary(mixed_effect)\n",
        "anova(mixed_effect)\n",
        "plot(allEffects(mixed_effect))\n",
        "emmeans(mixed_effect, list(pairwise ~ sedation_level*condition), adjust = \"tukey\")"
      ],
      "metadata": {
        "id": "QRG0tD6Gq47d",
        "colab": {
          "base_uri": "https://localhost:8080/",
          "height": 1000
        },
        "outputId": "b5cf3e2a-c036-4b25-825a-2dd3ecea7da6"
      },
      "execution_count": 30,
      "outputs": [
        {
          "output_type": "display_data",
          "data": {
            "text/plain": [
              "Linear mixed model fit by REML. t-tests use Satterthwaite's method [\n",
              "lmerModLmerTest]\n",
              "Formula: hurst ~ sedation_level * condition + (1 | subject)\n",
              "   Data: x\n",
              "\n",
              "REML criterion at convergence: 285.8\n",
              "\n",
              "Scaled residuals: \n",
              "    Min      1Q  Median      3Q     Max \n",
              "-1.9290 -0.7005  0.0621  0.7656  2.0311 \n",
              "\n",
              "Random effects:\n",
              " Groups   Name        Variance Std.Dev.\n",
              " subject  (Intercept) 0.1077   0.3282  \n",
              " Residual             0.8210   0.9061  \n",
              "Number of obs: 102, groups:  subject, 17\n",
              "\n",
              "Fixed effects:\n",
              "                            Estimate Std. Error       df t value Pr(>|t|)   \n",
              "(Intercept)                 -0.03375    0.12262 17.13745  -0.275  0.78639   \n",
              "sedation_level.L            -0.07405    0.17716 83.60120  -0.418  0.67705   \n",
              "sedation_level.Q            -0.25568    0.18693 85.97597  -1.368  0.17495   \n",
              "sedation_level.C             0.01244    0.19361 82.82897   0.064  0.94890   \n",
              "condition1                   0.15067    0.09269 82.70788   1.625  0.10787   \n",
              "sedation_level.L:condition1  0.05183    0.17606 81.09761   0.294  0.76923   \n",
              "sedation_level.Q:condition1  0.50977    0.18507 82.10329   2.754  0.00724 **\n",
              "sedation_level.C:condition1 -0.30159    0.19421 84.12544  -1.553  0.12420   \n",
              "---\n",
              "Signif. codes:  0 ‘***’ 0.001 ‘**’ 0.01 ‘*’ 0.05 ‘.’ 0.1 ‘ ’ 1\n",
              "\n",
              "Correlation of Fixed Effects:\n",
              "            (Intr) sdt_.L sdt_.Q sdt_.C cndtn1 s_.L:1 s_.Q:1\n",
              "sedtn_lvl.L  0.043                                          \n",
              "sedtn_lvl.Q -0.100 -0.057                                   \n",
              "sedtn_lvl.C -0.105 -0.071  0.128                            \n",
              "condition1  -0.113 -0.011  0.014  0.037                     \n",
              "sdtn_lv.L:1 -0.015 -0.149  0.017  0.009  0.051              \n",
              "sdtn_lv.Q:1  0.016  0.010 -0.150 -0.037 -0.116 -0.047       \n",
              "sdtn_lv.C:1  0.027 -0.003 -0.030 -0.145 -0.135 -0.064  0.136"
            ]
          },
          "metadata": {}
        },
        {
          "output_type": "display_data",
          "data": {
            "text/html": [
              "<table class=\"dataframe\">\n",
              "<caption>A anova: 3 × 6</caption>\n",
              "<thead>\n",
              "\t<tr><th></th><th scope=col>Sum Sq</th><th scope=col>Mean Sq</th><th scope=col>NumDF</th><th scope=col>DenDF</th><th scope=col>F value</th><th scope=col>Pr(&gt;F)</th></tr>\n",
              "\t<tr><th></th><th scope=col>&lt;dbl&gt;</th><th scope=col>&lt;dbl&gt;</th><th scope=col>&lt;int&gt;</th><th scope=col>&lt;dbl&gt;</th><th scope=col>&lt;dbl&gt;</th><th scope=col>&lt;dbl&gt;</th></tr>\n",
              "</thead>\n",
              "<tbody>\n",
              "\t<tr><th scope=row>sedation_level</th><td>1.774260</td><td>0.5914201</td><td>3</td><td>84.04945</td><td>0.7203698</td><td>0.54258342</td></tr>\n",
              "\t<tr><th scope=row>condition</th><td>2.169199</td><td>2.1691985</td><td>1</td><td>82.70788</td><td>2.6421579</td><td>0.10786685</td></tr>\n",
              "\t<tr><th scope=row>sedation_level:condition</th><td>9.414902</td><td>3.1383008</td><td>3</td><td>82.30226</td><td>3.8225576</td><td>0.01285705</td></tr>\n",
              "</tbody>\n",
              "</table>\n"
            ],
            "text/markdown": "\nA anova: 3 × 6\n\n| <!--/--> | Sum Sq &lt;dbl&gt; | Mean Sq &lt;dbl&gt; | NumDF &lt;int&gt; | DenDF &lt;dbl&gt; | F value &lt;dbl&gt; | Pr(&gt;F) &lt;dbl&gt; |\n|---|---|---|---|---|---|---|\n| sedation_level | 1.774260 | 0.5914201 | 3 | 84.04945 | 0.7203698 | 0.54258342 |\n| condition | 2.169199 | 2.1691985 | 1 | 82.70788 | 2.6421579 | 0.10786685 |\n| sedation_level:condition | 9.414902 | 3.1383008 | 3 | 82.30226 | 3.8225576 | 0.01285705 |\n\n",
            "text/latex": "A anova: 3 × 6\n\\begin{tabular}{r|llllll}\n  & Sum Sq & Mean Sq & NumDF & DenDF & F value & Pr(>F)\\\\\n  & <dbl> & <dbl> & <int> & <dbl> & <dbl> & <dbl>\\\\\n\\hline\n\tsedation\\_level & 1.774260 & 0.5914201 & 3 & 84.04945 & 0.7203698 & 0.54258342\\\\\n\tcondition & 2.169199 & 2.1691985 & 1 & 82.70788 & 2.6421579 & 0.10786685\\\\\n\tsedation\\_level:condition & 9.414902 & 3.1383008 & 3 & 82.30226 & 3.8225576 & 0.01285705\\\\\n\\end{tabular}\n",
            "text/plain": [
              "                         Sum Sq   Mean Sq   NumDF DenDF    F value   Pr(>F)    \n",
              "sedation_level           1.774260 0.5914201 3     84.04945 0.7203698 0.54258342\n",
              "condition                2.169199 2.1691985 1     82.70788 2.6421579 0.10786685\n",
              "sedation_level:condition 9.414902 3.1383008 3     82.30226 3.8225576 0.01285705"
            ]
          },
          "metadata": {}
        },
        {
          "output_type": "stream",
          "name": "stderr",
          "text": [
            "Warning message in Analyze.model(focal.predictors, mod, xlevels, default.levels, :\n",
            "“the predictor hurst is a one-column matrix that was converted to a vector”\n"
          ]
        },
        {
          "output_type": "display_data",
          "data": {
            "text/plain": [
              "$`emmeans of sedation_level, condition`\n",
              " sedation_level condition  emmean    SE   df lower.CL upper.CL\n",
              " Awake          rest       0.3235 0.241 89.0   -0.155  0.80197\n",
              " Mild           rest      -0.1991 0.249 89.8   -0.693  0.29478\n",
              " Deep           rest       0.1789 0.290 92.8   -0.396  0.75394\n",
              " Recovery       rest       0.1644 0.241 89.0   -0.314  0.64284\n",
              " Awake          movie     -0.5529 0.277 92.3   -1.104 -0.00226\n",
              " Mild           movie      0.4371 0.277 92.2   -0.114  0.98817\n",
              " Deep           movie     -0.0405 0.339 93.9   -0.713  0.63198\n",
              " Recovery       movie     -0.5814 0.277 92.3   -1.132 -0.03049\n",
              "\n",
              "Degrees-of-freedom method: kenward-roger \n",
              "Confidence level used: 0.95 \n",
              "\n",
              "$`pairwise differences of sedation_level, condition`\n",
              " 1                              estimate    SE   df t.ratio p.value\n",
              " Awake rest - Mild rest           0.5226 0.327 80.0   1.596  0.7512\n",
              " Awake rest - Deep rest           0.1447 0.360 82.7   0.402  0.9999\n",
              " Awake rest - Recovery rest       0.1591 0.321 79.3   0.495  0.9997\n",
              " Awake rest - Awake movie         0.8764 0.349 80.4   2.514  0.2045\n",
              " Awake rest - Mild movie         -0.1136 0.350 82.0  -0.324  1.0000\n",
              " Awake rest - Deep movie          0.3640 0.399 83.3   0.912  0.9841\n",
              " Awake rest - Recovery movie      0.9049 0.350 81.8   2.585  0.1765\n",
              " Mild rest - Deep rest           -0.3780 0.364 82.1  -1.038  0.9671\n",
              " Mild rest - Recovery rest       -0.3635 0.327 80.0  -1.110  0.9528\n",
              " Mild rest - Awake movie          0.3538 0.356 82.5   0.994  0.9741\n",
              " Mild rest - Mild movie          -0.6362 0.353 80.2  -1.802  0.6205\n",
              " Mild rest - Deep movie          -0.1586 0.403 82.8  -0.394  0.9999\n",
              " Mild rest - Recovery movie       0.3822 0.356 82.7   1.074  0.9605\n",
              " Deep rest - Recovery rest        0.0145 0.358 81.4   0.040  1.0000\n",
              " Deep rest - Awake movie          0.7318 0.388 85.8   1.886  0.5643\n",
              " Deep rest - Mild movie          -0.2582 0.383 81.7  -0.675  0.9974\n",
              " Deep rest - Deep movie           0.2194 0.429 83.8   0.511  0.9996\n",
              " Deep rest - Recovery movie       0.7602 0.383 81.7   1.987  0.4969\n",
              " Recovery rest - Awake movie      0.7173 0.350 81.7   2.050  0.4559\n",
              " Recovery rest - Mild movie      -0.2727 0.350 82.0  -0.779  0.9938\n",
              " Recovery rest - Deep movie       0.2049 0.399 83.3   0.513  0.9996\n",
              " Recovery rest - Recovery movie   0.7458 0.350 81.8   2.130  0.4047\n",
              " Awake movie - Mild movie        -0.9900 0.378 85.0  -2.617  0.1644\n",
              " Awake movie - Deep movie        -0.5124 0.422 84.3  -1.213  0.9258\n",
              " Awake movie - Recovery movie     0.0284 0.377 83.5   0.076  1.0000\n",
              " Mild movie - Deep movie          0.4776 0.420 83.0   1.137  0.9467\n",
              " Mild movie - Recovery movie      1.0185 0.375 82.4   2.716  0.1324\n",
              " Deep movie - Recovery movie      0.5409 0.422 84.4   1.280  0.9036\n",
              "\n",
              "Degrees-of-freedom method: kenward-roger \n",
              "P value adjustment: tukey method for comparing a family of 8 estimates \n"
            ]
          },
          "metadata": {}
        },
        {
          "output_type": "display_data",
          "data": {
            "text/plain": [
              "plot without title"
            ],
            "image/png": "[encoded data removed]"
          },
          "metadata": {
            "image/png": {
              "width": 420,
              "height": 420
            }
          }
        }
      ]
    },
    {
      "cell_type": "code",
      "source": [
        "## The following code is to analyze wavelet hurst\n",
        "# Preprocess wavelet hurst averages\n",
        "wavelet <- read.csv(\"/content/wavelet_df_mean.csv\") %>%\n",
        "  separate(X, into = c(\"subject\",\"nan1\", \"condition\", \"sedation_level\", \"nan2\"), convert = TRUE, sep = \"_\")  %>%\n",
        "  select(\"subject\", \"condition\", \"sedation_level\", \"hurst_average\") %>%\n",
        "  mutate(sedation_level = as.character(sedation_level)) %>%\n",
        "  mutate(sedation_level = fct_recode(sedation_level,\n",
        "                                \"Awake\" = \"1\",\n",
        "                                \"Mild\" = \"2\",\n",
        "                                \"Deep\" = \"3\",\n",
        "                                \"Recovery\" = \"4\"))\n",
        "wavelet$subject <- factor(wavelet$subject)\n",
        "wavelet$sedation_level <- factor(wavelet$sedation_level, levels=c(\"Awake\",\"Mild\", \"Deep\", \"Recovery\")) \n",
        "wavelet$condition <- factor(wavelet$condition, levels=c(\"rest\",\"movie\")) \n",
        " \n",
        "\n",
        "contrasts(wavelet$sedation_level) = contr.poly(4)\n",
        "options(contrasts=c(\"contr.sum\",\"contr.poly\"))\n",
        "\n",
        "# Normalize the data\n",
        "wavelet$hurst <- scale(wavelet$hurst_average)\n",
        "\n",
        "wavelet"
      ],
      "metadata": {
        "id": "a9yPjtqdG7VS"
      },
      "execution_count": null,
      "outputs": []
    },
    {
      "cell_type": "code",
      "source": [
        "# Main effect of sedation level\n",
        "wavelet_total = lmer(hurst ~ sedation_level + (1 | subject) + (1 | condition), data=wavelet)\n",
        "summary(wavelet_total)\n",
        "anova(wavelet_total)\n",
        "plot(allEffects(wavelet_total))\n",
        "emmeans(wavelet_total, list(pairwise ~ sedation_level), adjust = \"tukey\")"
      ],
      "metadata": {
        "id": "OlEIAtbEOgH6"
      },
      "execution_count": null,
      "outputs": []
    },
    {
      "cell_type": "code",
      "source": [
        "# Main effect of movie/rest condition in wavelet\n",
        "wavelet_condition = lmer(hurst ~ condition + (1 | subject) + (1 | sedation_level), data=wavelet)\n",
        "summary(wavelet_condition)\n",
        "plot(allEffects(wavelet_condition))"
      ],
      "metadata": {
        "id": "WzquAXtEJTXI"
      },
      "execution_count": null,
      "outputs": []
    },
    {
      "cell_type": "code",
      "source": [
        "# Main effect of sedation level within the movie condition in wavelet\n",
        "movie_wavelet <- wavelet %>%\n",
        "  filter(condition == \"movie\")\n",
        "\n",
        "wavelet_movie = lmer(hurst ~ sedation_level + (1 | subject), data=movie_wavelet)\n",
        "summary(wavelet_movie)\n",
        "anova(wavelet_movie)\n",
        "plot(allEffects(wavelet_movie))\n",
        "emmeans(wavelet_movie, list(pairwise ~ sedation_level), adjust = \"tukey\")"
      ],
      "metadata": {
        "id": "d98j5_cMJta2"
      },
      "execution_count": null,
      "outputs": []
    },
    {
      "cell_type": "code",
      "source": [
        "# Main effect of sedation level within the rest condition in wavelet\n",
        "rest_wavelet <- wavelet %>%\n",
        "  filter(condition == \"rest\")\n",
        "\n",
        "wavelet_rest = lmer(hurst ~ sedation_level + (1 | subject), data=rest_wavelet)\n",
        "summary(wavelet_rest)\n",
        "anova(wavelet_rest)\n",
        "plot(allEffects(wavelet_rest))\n",
        "emmeans(wavelet_rest, list(pairwise ~ sedation_level), adjust = \"tukey\")"
      ],
      "metadata": {
        "id": "hVO2s0BVKxWT"
      },
      "execution_count": null,
      "outputs": []
    },
    {
      "cell_type": "code",
      "source": [
        "# Interaction effects\n",
        "mixed_effect_wavelet = lmer(hurst ~ sedation_level*condition + (1 | subject), data=wavelet)\n",
        "summary(mixed_effect_wavelet)\n",
        "anova(mixed_effect_wavelet)\n",
        "plot(allEffects(mixed_effect_wavelet))\n",
        "emmeans(mixed_effect_wavelet, list(pairwise ~ sedation_level*condition), adjust = \"tukey\")"
      ],
      "metadata": {
        "colab": {
          "base_uri": "https://localhost:8080/",
          "height": 1000
        },
        "id": "u7GbyOBqLLnJ",
        "outputId": "c4d3c6d2-f22a-4d87-9ff1-0eccf438f89e"
      },
      "execution_count": 20,
      "outputs": [
        {
          "output_type": "display_data",
          "data": {
            "text/plain": [
              "Linear mixed model fit by REML. t-tests use Satterthwaite's method [\n",
              "lmerModLmerTest]\n",
              "Formula: hurst ~ sedation_level * condition + (1 | subject)\n",
              "   Data: wavelet\n",
              "\n",
              "REML criterion at convergence: 270.1\n",
              "\n",
              "Scaled residuals: \n",
              "     Min       1Q   Median       3Q      Max \n",
              "-2.16027 -0.51071  0.04279  0.59173  2.56465 \n",
              "\n",
              "Random effects:\n",
              " Groups   Name        Variance Std.Dev.\n",
              " subject  (Intercept) 0.006879 0.08294 \n",
              " Residual             0.911001 0.95446 \n",
              "Number of obs: 96, groups:  subject, 17\n",
              "\n",
              "Fixed effects:\n",
              "                            Estimate Std. Error       df t value Pr(>|t|)  \n",
              "(Intercept)                  0.01376    0.10365 16.67100   0.133   0.8960  \n",
              "sedation_level.L            -0.19315    0.19652 80.63312  -0.983   0.3286  \n",
              "sedation_level.Q            -0.22084    0.20344 84.91851  -1.086   0.2808  \n",
              "sedation_level.C             0.20138    0.20976 80.70893   0.960   0.3399  \n",
              "condition1                  -0.12670    0.10163 80.92746  -1.247   0.2161  \n",
              "sedation_level.L:condition1 -0.16732    0.19644 78.41707  -0.852   0.3969  \n",
              "sedation_level.Q:condition1  0.42491    0.20313 77.50656   2.092   0.0397 *\n",
              "sedation_level.C:condition1 -0.43834    0.20974 80.27427  -2.090   0.0398 *\n",
              "---\n",
              "Signif. codes:  0 ‘***’ 0.001 ‘**’ 0.01 ‘*’ 0.05 ‘.’ 0.1 ‘ ’ 1\n",
              "\n",
              "Correlation of Fixed Effects:\n",
              "            (Intr) sdt_.L sdt_.Q sdt_.C cndtn1 s_.L:1 s_.Q:1\n",
              "sedtn_lvl.L  0.062                                          \n",
              "sedtn_lvl.Q -0.081 -0.035                                   \n",
              "sedtn_lvl.C -0.131 -0.049  0.142                            \n",
              "condition1  -0.226 -0.045 -0.019  0.041                     \n",
              "sdtn_lv.L:1 -0.045 -0.263 -0.011 -0.011  0.063              \n",
              "sdtn_lv.Q:1 -0.018 -0.011 -0.230 -0.059 -0.082 -0.034       \n",
              "sdtn_lv.C:1  0.041 -0.013 -0.059 -0.202 -0.133 -0.048  0.142"
            ]
          },
          "metadata": {}
        },
        {
          "output_type": "display_data",
          "data": {
            "text/html": [
              "<table class=\"dataframe\">\n",
              "<caption>A anova: 3 × 6</caption>\n",
              "<thead>\n",
              "\t<tr><th></th><th scope=col>Sum Sq</th><th scope=col>Mean Sq</th><th scope=col>NumDF</th><th scope=col>DenDF</th><th scope=col>F value</th><th scope=col>Pr(&gt;F)</th></tr>\n",
              "\t<tr><th></th><th scope=col>&lt;dbl&gt;</th><th scope=col>&lt;dbl&gt;</th><th scope=col>&lt;int&gt;</th><th scope=col>&lt;dbl&gt;</th><th scope=col>&lt;dbl&gt;</th><th scope=col>&lt;dbl&gt;</th></tr>\n",
              "</thead>\n",
              "<tbody>\n",
              "\t<tr><th scope=row>sedation_level</th><td> 3.088863</td><td>1.029621</td><td>3</td><td>81.94549</td><td>1.130208</td><td>0.34177702</td></tr>\n",
              "\t<tr><th scope=row>condition</th><td> 1.415998</td><td>1.415998</td><td>1</td><td>80.92746</td><td>1.554333</td><td>0.21609340</td></tr>\n",
              "\t<tr><th scope=row>sedation_level:condition</th><td>10.000089</td><td>3.333363</td><td>3</td><td>78.53337</td><td>3.659012</td><td>0.01589395</td></tr>\n",
              "</tbody>\n",
              "</table>\n"
            ],
            "text/markdown": "\nA anova: 3 × 6\n\n| <!--/--> | Sum Sq &lt;dbl&gt; | Mean Sq &lt;dbl&gt; | NumDF &lt;int&gt; | DenDF &lt;dbl&gt; | F value &lt;dbl&gt; | Pr(&gt;F) &lt;dbl&gt; |\n|---|---|---|---|---|---|---|\n| sedation_level |  3.088863 | 1.029621 | 3 | 81.94549 | 1.130208 | 0.34177702 |\n| condition |  1.415998 | 1.415998 | 1 | 80.92746 | 1.554333 | 0.21609340 |\n| sedation_level:condition | 10.000089 | 3.333363 | 3 | 78.53337 | 3.659012 | 0.01589395 |\n\n",
            "text/latex": "A anova: 3 × 6\n\\begin{tabular}{r|llllll}\n  & Sum Sq & Mean Sq & NumDF & DenDF & F value & Pr(>F)\\\\\n  & <dbl> & <dbl> & <int> & <dbl> & <dbl> & <dbl>\\\\\n\\hline\n\tsedation\\_level &  3.088863 & 1.029621 & 3 & 81.94549 & 1.130208 & 0.34177702\\\\\n\tcondition &  1.415998 & 1.415998 & 1 & 80.92746 & 1.554333 & 0.21609340\\\\\n\tsedation\\_level:condition & 10.000089 & 3.333363 & 3 & 78.53337 & 3.659012 & 0.01589395\\\\\n\\end{tabular}\n",
            "text/plain": [
              "                         Sum Sq    Mean Sq  NumDF DenDF    F value  Pr(>F)    \n",
              "sedation_level            3.088863 1.029621 3     81.94549 1.130208 0.34177702\n",
              "condition                 1.415998 1.415998 1     80.92746 1.554333 0.21609340\n",
              "sedation_level:condition 10.000089 3.333363 3     78.53337 3.659012 0.01589395"
            ]
          },
          "metadata": {}
        },
        {
          "output_type": "stream",
          "name": "stderr",
          "text": [
            "Warning message in Analyze.model(focal.predictors, mod, xlevels, default.levels, :\n",
            "“the predictor hurst is a one-column matrix that was converted to a vector”\n"
          ]
        },
        {
          "output_type": "display_data",
          "data": {
            "text/plain": [
              "$`emmeans of sedation_level, condition`\n",
              " sedation_level condition  emmean    SE df lower.CL upper.CL\n",
              " Awake          rest       0.2839 0.240 88   -0.193    0.760\n",
              " Mild           rest      -0.2933 0.248 88   -0.786    0.199\n",
              " Deep           rest      -0.1366 0.291 88   -0.715    0.442\n",
              " Recovery       rest      -0.3057 0.232 88   -0.767    0.156\n",
              " Awake          movie     -0.3081 0.306 88   -0.916    0.299\n",
              " Mild           movie      0.8982 0.291 88    0.320    1.477\n",
              " Deep           movie      0.0284 0.367 88   -0.701    0.758\n",
              " Recovery       movie     -0.0567 0.323 88   -0.698    0.585\n",
              "\n",
              "Degrees-of-freedom method: kenward-roger \n",
              "Confidence level used: 0.95 \n",
              "\n",
              "$`pairwise differences of sedation_level, condition`\n",
              " 1                              estimate    SE   df t.ratio p.value\n",
              " Awake rest - Mild rest          0.57722 0.344 75.2   1.679  0.7004\n",
              " Awake rest - Deep rest          0.42051 0.376 78.9   1.118  0.9510\n",
              " Awake rest - Recovery rest      0.58959 0.333 73.6   1.772  0.6404\n",
              " Awake rest - Awake movie        0.59201 0.387 78.2   1.529  0.7893\n",
              " Awake rest - Mild movie        -0.61436 0.376 78.9  -1.633  0.7288\n",
              " Awake rest - Deep movie         0.25546 0.437 81.4   0.584  0.9990\n",
              " Awake rest - Recovery movie     0.34057 0.401 79.2   0.850  0.9895\n",
              " Mild rest - Deep rest          -0.15671 0.381 78.2  -0.411  0.9999\n",
              " Mild rest - Recovery rest       0.01237 0.339 74.4   0.037  1.0000\n",
              " Mild rest - Awake movie         0.01479 0.392 79.3   0.038  1.0000\n",
              " Mild rest - Mild movie         -1.19158 0.380 76.5  -3.133  0.0479\n",
              " Mild rest - Deep movie         -0.32176 0.441 80.9  -0.729  0.9958\n",
              " Mild rest - Recovery movie     -0.23665 0.407 82.0  -0.582  0.9990\n",
              " Deep rest - Recovery rest       0.16908 0.371 77.9   0.455  0.9998\n",
              " Deep rest - Awake movie         0.17151 0.423 85.2   0.405  0.9999\n",
              " Deep rest - Mild movie         -1.03486 0.410 79.1  -2.526  0.2001\n",
              " Deep rest - Deep movie         -0.16505 0.465 80.4  -0.355  1.0000\n",
              " Deep rest - Recovery movie     -0.07993 0.433 81.6  -0.184  1.0000\n",
              " Recovery rest - Awake movie     0.00242 0.383 78.8   0.006  1.0000\n",
              " Recovery rest - Mild movie     -1.20395 0.371 77.9  -3.243  0.0353\n",
              " Recovery rest - Deep movie     -0.33413 0.434 81.9  -0.771  0.9942\n",
              " Recovery rest - Recovery movie -0.24902 0.397 79.8  -0.628  0.9984\n",
              " Awake movie - Mild movie       -1.20637 0.420 80.4  -2.869  0.0928\n",
              " Awake movie - Deep movie       -0.33656 0.476 81.8  -0.708  0.9966\n",
              " Awake movie - Recovery movie   -0.25144 0.444 82.9  -0.566  0.9992\n",
              " Mild movie - Deep movie         0.86982 0.466 80.3   1.868  0.5766\n",
              " Mild movie - Recovery movie     0.95493 0.433 81.7   2.204  0.3603\n",
              " Deep movie - Recovery movie     0.08511 0.489 85.2   0.174  1.0000\n",
              "\n",
              "Degrees-of-freedom method: kenward-roger \n",
              "P value adjustment: tukey method for comparing a family of 8 estimates \n"
            ]
          },
          "metadata": {}
        },
        {
          "output_type": "display_data",
          "data": {
            "text/plain": [
              "plot without title"
            ],
            "image/png": "[encoded data removed]"
          },
          "metadata": {
            "image/png": {
              "width": 420,
              "height": 420
            }
          }
        }
      ]
    },
    {
      "cell_type": "code",
      "source": [
        "## The following code is to separate recovery early from recovery late (discarded)\n",
        "# Separate recovery early from recovery late in the rest\n",
        "rest_100 <- read.csv(\"/rest_100.csv\") %>%\n",
        "  separate(col = X, into = c(\"subject\"), convert = TRUE, sep = \"_\") %>%\n",
        "  mutate(recovery_early = rowMeans(across(X0:X9), na.rm = TRUE)) %>%\n",
        "  mutate(recovery_late = rowMeans(across(X36:X45), na.rm = TRUE)) %>%\n",
        "  mutate(condition = \"rest\") %>%\n",
        "  select(\"subject\", \"recovery_early\" ,\"recovery_late\", \"condition\") %>%\n",
        "  pivot_longer(c(\"recovery_early\", \"recovery_late\"), names_to = \"sedation_level\", values_to = \"hurst_average\") %>%\n",
        "  mutate(hurst = scale(hurst_average)) %>%\n",
        "  select(\"subject\", \"sedation_level\", \"hurst\", \"condition\") %>%\n",
        "  full_join(x, by = c(\"subject\", \"sedation_level\", \"hurst\", \"condition\")) %>%\n",
        "  filter(condition == \"rest\") %>%\n",
        "  filter(sedation_level != \"Recovery\")\n",
        "\n",
        "rest_100$subject <- factor(rest_100$subject)\n",
        "rest_100$sedation_level <- factor(rest_100$sedation_level, levels=c(\"Awake\",\"Mild\", \"Deep\", \"recovery_early\", \"recovery_late\"))\n",
        "\n",
        "contrasts(rest_100$sedation_level) = contr.poly(5)\n",
        "options(contrasts=c(\"contr.sum\",\"contr.poly\"))\n",
        "\n",
        "rest_100"
      ],
      "metadata": {
        "id": "6smz2KDnT9sL",
        "colab": {
          "base_uri": "https://localhost:8080/",
          "height": 634
        },
        "outputId": "3e7bb833-979f-4a61-9a33-5a5f86f28567"
      },
      "execution_count": 5,
      "outputs": [
        {
          "metadata": {
            "tags": null
          },
          "name": "stderr",
          "output_type": "stream",
          "text": [
            "Warning message in file(file, \"rt\"):\n",
            "“cannot open file '/rest_100.csv': No such file or directory”\n"
          ]
        },
        {
          "ename": "ERROR",
          "evalue": "ignored",
          "output_type": "error",
          "traceback": [
            "Error in file(file, \"rt\"): cannot open the connection\nTraceback:\n",
            "1. read.csv(\"/rest_100.csv\") %>% separate(col = X, into = c(\"subject\"), \n .     convert = TRUE, sep = \"_\") %>% mutate(recovery_early = rowMeans(across(X0:X9), \n .     na.rm = TRUE)) %>% mutate(recovery_late = rowMeans(across(X36:X45), \n .     na.rm = TRUE)) %>% mutate(condition = \"rest\") %>% select(\"subject\", \n .     \"recovery_early\", \"recovery_late\", \"condition\") %>% pivot_longer(c(\"recovery_early\", \n .     \"recovery_late\"), names_to = \"sedation_level\", values_to = \"hurst_average\") %>% \n .     mutate(hurst = scale(hurst_average)) %>% select(\"subject\", \n .     \"sedation_level\", \"hurst\", \"condition\") %>% full_join(x, \n .     by = c(\"subject\", \"sedation_level\", \"hurst\", \"condition\")) %>% \n .     filter(condition == \"rest\") %>% filter(sedation_level != \n .     \"Recovery\")",
            "2. filter(., sedation_level != \"Recovery\")",
            "3. filter(., condition == \"rest\")",
            "4. full_join(., x, by = c(\"subject\", \"sedation_level\", \"hurst\", \n .     \"condition\"))",
            "5. select(., \"subject\", \"sedation_level\", \"hurst\", \"condition\")",
            "6. mutate(., hurst = scale(hurst_average))",
            "7. pivot_longer(., c(\"recovery_early\", \"recovery_late\"), names_to = \"sedation_level\", \n .     values_to = \"hurst_average\")",
            "8. select(., \"subject\", \"recovery_early\", \"recovery_late\", \"condition\")",
            "9. mutate(., condition = \"rest\")",
            "10. mutate(., recovery_late = rowMeans(across(X36:X45), na.rm = TRUE))",
            "11. mutate(., recovery_early = rowMeans(across(X0:X9), na.rm = TRUE))",
            "12. separate(., col = X, into = c(\"subject\"), convert = TRUE, sep = \"_\")",
            "13. read.csv(\"/rest_100.csv\")",
            "14. read.table(file = file, header = header, sep = sep, quote = quote, \n  .     dec = dec, fill = fill, comment.char = comment.char, ...)",
            "15. file(file, \"rt\")"
          ]
        }
      ]
    },
    {
      "cell_type": "code",
      "source": [
        "# Main effect of sedation level in the rest condition (recovery separated)\n",
        "mixed_effect_rest_100 = lmer(hurst ~ sedation_level + (1 | subject), data=rest_100)\n",
        "summary(mixed_effect_rest_100)\n",
        "anova(mixed_effect_rest_100)\n",
        "plot(allEffects(mixed_effect_rest_100))\n",
        "emmeans(mixed_effect_rest_100, list(pairwise ~ sedation_level), adjust = \"tukey\")"
      ],
      "metadata": {
        "id": "yEJrMj2TVGh5"
      },
      "execution_count": null,
      "outputs": []
    },
    {
      "cell_type": "code",
      "source": [
        "# Separate recovery early from recovery late in the movie condition\n",
        "movie_100 <- read.csv(\"/movie_100.csv\") %>%\n",
        "  separate(col = X, into = c(\"subject\"), convert = TRUE, sep = \"_\") %>%\n",
        "  mutate(recovery_early = rowMeans(across(X0:X15), na.rm = TRUE)) %>%\n",
        "  mutate(recovery_late = rowMeans(across(X49:X64), na.rm = TRUE)) %>%\n",
        "  mutate(condition = \"movie\") %>%\n",
        "  select(\"subject\", \"recovery_early\" ,\"recovery_late\", \"condition\") %>%\n",
        "  pivot_longer(c(\"recovery_early\", \"recovery_late\"), names_to = \"sedation_level\", values_to = \"hurst_average\") %>%\n",
        "  mutate(hurst = scale(hurst_average)) %>%\n",
        "  select(\"subject\", \"sedation_level\", \"hurst\", \"condition\") %>%\n",
        "  full_join(x, by = c(\"subject\", \"sedation_level\", \"hurst\", \"condition\")) %>%\n",
        "  filter(condition == \"movie\") %>%\n",
        "  filter(sedation_level != \"Recovery\")\n",
        "\n",
        "movie_100$subject <- factor(movie_100$subject)\n",
        "movie_100$sedation_level <- factor(movie_100$sedation_level, levels=c(\"Awake\",\"Mild\", \"Deep\", \"recovery_early\", \"recovery_late\"))\n",
        "\n",
        "contrasts(movie_100$sedation_level) = contr.poly(5)\n",
        "options(contrasts=c(\"contr.sum\",\"contr.poly\"))\n",
        "\n",
        "movie_100"
      ],
      "metadata": {
        "id": "FJFPqigryDKv"
      },
      "execution_count": null,
      "outputs": []
    },
    {
      "cell_type": "code",
      "source": [
        "# Main effect of sedation level in the movie condition (recovery separated)\n",
        "mixed_effect_movie_100 = lmer(hurst ~ sedation_level + (1 | subject), data=movie_100)\n",
        "summary(mixed_effect_movie_100)\n",
        "anova(mixed_effect_movie_100)\n",
        "plot(allEffects(mixed_effect_movie_100))\n",
        "emmeans(mixed_effect_movie_100, list(pairwise ~ sedation_level), adjust = \"tukey\")"
      ],
      "metadata": {
        "id": "OSS8uDkMywuk"
      },
      "execution_count": null,
      "outputs": []
    },
    {
      "cell_type": "code",
      "source": [
        "# Separate recovery early from recovery late across movie/rest condition\n",
        "total_100 <- rest_100 %>%\n",
        "  full_join(movie_100)\n",
        "\n",
        "total_100$subject <- factor(total_100$subject)\n",
        "total_100$sedation_level <- factor(total_100$sedation_level, levels=c(\"Awake\",\"Mild\", \"Deep\", \"recovery_early\", \"recovery_late\"))\n",
        "\n",
        "contrasts(total_100$sedation_level) = contr.poly(5)\n",
        "options(contrasts=c(\"contr.sum\",\"contr.poly\"))\n",
        "\n",
        "total_100"
      ],
      "metadata": {
        "id": "A-OV5y1m5Ab8"
      },
      "execution_count": null,
      "outputs": []
    },
    {
      "cell_type": "code",
      "source": [
        "# Interaction effects (recovery separated)\n",
        "mixed_effect_total_100 = lmer(hurst ~ sedation_level*condition + (1 | subject), data=total_100)\n",
        "summary(mixed_effect_total_100)\n",
        "anova(mixed_effect_total_100)\n",
        "plot(allEffects(mixed_effect_total_100))\n",
        "emmeans(mixed_effect_total_100, list(pairwise ~ sedation_level*condition), adjust = \"tukey\")"
      ],
      "metadata": {
        "id": "YYG3FpW35XTS"
      },
      "execution_count": null,
      "outputs": []
    }
  ]
}